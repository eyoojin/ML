{
 "cells": [
  {
   "cell_type": "markdown",
   "id": "7bbe89ec-7246-4a1b-a7fe-7d7b20cf5189",
   "metadata": {},
   "source": [
    "# 확률적 경사 하강법"
   ]
  },
  {
   "cell_type": "markdown",
   "id": "da5e6929-df7b-4493-930d-f3d9602a7efa",
   "metadata": {},
   "source": [
    "## 확률적 경사 하강법 *(SGD)*"
   ]
  },
  {
   "cell_type": "markdown",
   "id": "251816d6-55b6-4e65-81ee-8921392e509b",
   "metadata": {},
   "source": [
    "- *점진적 학습*\n",
    "- *데이터를 랜덤하게 추출(확률적)*"
   ]
  },
  {
   "cell_type": "markdown",
   "id": "35eda584-7904-4e1d-bf7b-3e08375a16a9",
   "metadata": {},
   "source": [
    "## 손실 함수"
   ]
  },
  {
   "cell_type": "markdown",
   "id": "fd7b06e9-43cf-4f40-8c5f-b2b27d87c32f",
   "metadata": {},
   "source": [
    "- *머신러닝 알고리즘이 얼마나 정확한지를 측정하는 것*\n",
    "- *손실 함수 수치를 낮게 만드는 것이 목표*"
   ]
  },
  {
   "cell_type": "markdown",
   "id": "6196520c-9bb5-4734-b261-7e2097d00dbc",
   "metadata": {},
   "source": [
    "## 에포크"
   ]
  },
  {
   "cell_type": "markdown",
   "id": "27c37192-83d9-47aa-bb4e-f3c5a62bc84c",
   "metadata": {},
   "source": [
    "- *늘린다고 무한히 좋아지지는 않음, 적정 수준을 찾아야 함*"
   ]
  },
  {
   "cell_type": "code",
   "execution_count": 2,
   "id": "1ea1955e-fcb7-4594-ab0e-65a90052873a",
   "metadata": {},
   "outputs": [],
   "source": [
    "import pandas as pd\n",
    "\n",
    "df = pd.read_csv('data/Fish.csv')"
   ]
  },
  {
   "cell_type": "code",
   "execution_count": 3,
   "id": "28a23b27-e97d-475a-b7fd-bd92fe90125e",
   "metadata": {},
   "outputs": [],
   "source": [
    "fish_input = df[['Weight', 'Length2', 'Length3', 'Height', 'Width']]\n",
    "fish_target = df[['Species']]"
   ]
  },
  {
   "cell_type": "code",
   "execution_count": 13,
   "id": "36764a61-a1e4-40fc-8708-6fe14d104d59",
   "metadata": {},
   "outputs": [],
   "source": [
    "from sklearn.model_selection import train_test_split\n",
    "\n",
    "train_input, test_input, train_target, test_target = train_test_split(fish_input, fish_target)"
   ]
  },
  {
   "cell_type": "code",
   "execution_count": 14,
   "id": "6ef384e6-b7e8-4178-bee4-be1b538e5bbf",
   "metadata": {},
   "outputs": [],
   "source": [
    "from sklearn.preprocessing import StandardScaler\n",
    "\n",
    "ss = StandardScaler()\n",
    "ss.fit(train_input)\n",
    "train_scaled = ss.transform(train_input)\n",
    "test_scaled = ss.transform(test_input)"
   ]
  },
  {
   "cell_type": "code",
   "execution_count": 52,
   "id": "50dd3a13-590a-4731-93c7-bba420b59b65",
   "metadata": {},
   "outputs": [
    {
     "name": "stdout",
     "output_type": "stream",
     "text": [
      "0.9243697478991597\n",
      "0.875\n"
     ]
    },
    {
     "name": "stderr",
     "output_type": "stream",
     "text": [
      "C:\\Users\\1-14\\Desktop\\DAMF2\\ml\\venv\\Lib\\site-packages\\sklearn\\utils\\validation.py:1408: DataConversionWarning: A column-vector y was passed when a 1d array was expected. Please change the shape of y to (n_samples, ), for example using ravel().\n",
      "  y = column_or_1d(y, warn=True)\n"
     ]
    }
   ],
   "source": [
    "from sklearn.linear_model import SGDClassifier\n",
    "\n",
    "sc = SGDClassifier(loss='log_loss', max_iter=100) # max_iter: 에포크를 몇번 반복할건지\n",
    "sc.fit(train_scaled, train_target)\n",
    "\n",
    "print(sc.score(train_scaled, train_target))\n",
    "print(sc.score(test_scaled, test_target))"
   ]
  },
  {
   "cell_type": "code",
   "execution_count": 51,
   "id": "9472917a-0a64-44a6-a772-47cefe841fb5",
   "metadata": {},
   "outputs": [
    {
     "name": "stdout",
     "output_type": "stream",
     "text": [
      "0.8907563025210085\n",
      "0.875\n"
     ]
    },
    {
     "name": "stderr",
     "output_type": "stream",
     "text": [
      "C:\\Users\\1-14\\Desktop\\DAMF2\\ml\\venv\\Lib\\site-packages\\sklearn\\utils\\validation.py:1408: DataConversionWarning: A column-vector y was passed when a 1d array was expected. Please change the shape of y to (n_samples, ), for example using ravel().\n",
      "  y = column_or_1d(y, warn=True)\n"
     ]
    }
   ],
   "source": [
    "sc.partial_fit(train_scaled, train_target) # 이어서 돌림\n",
    "print(sc.score(train_scaled, train_target))\n",
    "print(sc.score(test_scaled, test_target))"
   ]
  },
  {
   "cell_type": "code",
   "execution_count": 63,
   "id": "e924eca5-785e-4a1e-bc6c-6dcd7e40c4b9",
   "metadata": {},
   "outputs": [
    {
     "name": "stdout",
     "output_type": "stream",
     "text": [
      "0.865546218487395\n",
      "0.825\n"
     ]
    },
    {
     "name": "stderr",
     "output_type": "stream",
     "text": [
      "C:\\Users\\1-14\\Desktop\\DAMF2\\ml\\venv\\Lib\\site-packages\\sklearn\\utils\\validation.py:1408: DataConversionWarning: A column-vector y was passed when a 1d array was expected. Please change the shape of y to (n_samples, ), for example using ravel().\n",
      "  y = column_or_1d(y, warn=True)\n"
     ]
    }
   ],
   "source": [
    "from sklearn.linear_model import SGDClassifier\n",
    "\n",
    "sc = SGDClassifier(loss='hinge', max_iter=1000) # loss='hinge' 기본값\n",
    "sc.fit(train_scaled, train_target)\n",
    "\n",
    "print(sc.score(train_scaled, train_target))\n",
    "print(sc.score(test_scaled, test_target))"
   ]
  }
 ],
 "metadata": {
  "kernelspec": {
   "display_name": "Python 3 (ipykernel)",
   "language": "python",
   "name": "python3"
  },
  "language_info": {
   "codemirror_mode": {
    "name": "ipython",
    "version": 3
   },
   "file_extension": ".py",
   "mimetype": "text/x-python",
   "name": "python",
   "nbconvert_exporter": "python",
   "pygments_lexer": "ipython3",
   "version": "3.13.2"
  }
 },
 "nbformat": 4,
 "nbformat_minor": 5
}
