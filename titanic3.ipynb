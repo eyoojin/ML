{
 "cells": [
  {
   "cell_type": "code",
   "execution_count": 1,
   "id": "9bb66fed-f84b-49bd-b0c3-81ef2602e1dc",
   "metadata": {},
   "outputs": [],
   "source": [
    "import pandas as pd\n",
    "import numpy as np"
   ]
  },
  {
   "cell_type": "code",
   "execution_count": 2,
   "id": "f72894f9-5fd7-49d2-bfd9-5e66a823dd7e",
   "metadata": {},
   "outputs": [],
   "source": [
    "df = pd.read_csv('data/train.csv')\n",
    "df2 = pd.read_csv('data/test.csv')"
   ]
  },
  {
   "cell_type": "code",
   "execution_count": 3,
   "id": "6c5a90d7-36e1-444e-82e4-813d83f7955a",
   "metadata": {},
   "outputs": [],
   "source": [
    "df3 = pd.concat([df, df2])"
   ]
  },
  {
   "cell_type": "code",
   "execution_count": 4,
   "id": "58e1af0f-80b6-4d0b-9594-b9a880a3d48f",
   "metadata": {},
   "outputs": [
    {
     "name": "stdout",
     "output_type": "stream",
     "text": [
      "0    21.0\n",
      "Name: Age, dtype: float64\n",
      "0    22.0\n",
      "Name: Age, dtype: float64\n"
     ]
    }
   ],
   "source": [
    "cond1 = df3['Sex'] == 'male'\n",
    "male_mean = df3.loc[cond1, 'Age'].mode()\n",
    "print(male_mean)\n",
    "\n",
    "cond2 = df2['Sex'] == 'male'\n",
    "df2.loc[cond2, 'Age'] = df2.loc[cond2, 'Age'].fillna(21)\n",
    "\n",
    "cond_1 = df['Sex'] == 'male'\n",
    "df.loc[cond_1, 'Age'] = df.loc[cond_1, 'Age'].fillna(21)\n",
    "\n",
    "cond3 = df3['Sex'] == 'female'\n",
    "female_mean = df3.loc[cond3, 'Age'].mode()\n",
    "print(female_mean)\n",
    "\n",
    "cond4 = df2['Sex'] == 'female'\n",
    "df2.loc[cond4, 'Age'] = df2.loc[cond4, 'Age'].fillna(22)\n",
    "\n",
    "cond_2 = df['Sex'] == 'female'\n",
    "df.loc[cond_2, 'Age'] = df.loc[cond_2, 'Age'].fillna(22)"
   ]
  },
  {
   "cell_type": "code",
   "execution_count": 5,
   "id": "fcb5af6b-7bc6-4bf4-a541-1e389a65b537",
   "metadata": {},
   "outputs": [],
   "source": [
    "cond5 = df3['Pclass'] == 3\n",
    "fare_mean = df3.loc[cond5, 'Fare'].mean()\n",
    "cond6 = df2['Pclass'] == 3\n",
    "df2.loc[cond6, 'Fare'] = df2.loc[cond6, 'Fare'].fillna(fare_mean)"
   ]
  },
  {
   "cell_type": "code",
   "execution_count": 6,
   "id": "0b05dc9b-60a8-4da9-a0c2-24ea553a034e",
   "metadata": {},
   "outputs": [],
   "source": [
    "df2['Family'] = df2['SibSp'] + df2['Parch']\n",
    "df['Family'] = df['SibSp'] + df['Parch']\n",
    "\n",
    "df2['IsAlone'] = 0\n",
    "df['IsAlone'] = 0\n",
    "df2.loc[df['Family'] == 0, 'IsAlone'] = 1\n",
    "df.loc[df['Family'] == 0, 'IsAlone'] = 1"
   ]
  },
  {
   "cell_type": "code",
   "execution_count": null,
   "id": "b1fa8d81-d30f-46f4-9cee-efad18274f84",
   "metadata": {},
   "outputs": [],
   "source": [
    "df2.info()"
   ]
  },
  {
   "cell_type": "code",
   "execution_count": null,
   "id": "8a7cb4ac-2ed8-4b6c-abad-449270db394e",
   "metadata": {},
   "outputs": [],
   "source": [
    "df.info()"
   ]
  },
  {
   "cell_type": "code",
   "execution_count": 7,
   "id": "0ba5be15-8233-4cd4-af57-92b22c225c59",
   "metadata": {},
   "outputs": [],
   "source": [
    "df['Embarked'] = df['Embarked'].fillna('S')"
   ]
  },
  {
   "cell_type": "code",
   "execution_count": 8,
   "id": "250694d0-da84-4d1e-9631-29d820066713",
   "metadata": {},
   "outputs": [],
   "source": [
    "embarked_mapping = {'S':0, 'C':1, 'Q':2}\n",
    "df['Embarked'] = df['Embarked'].map(embarked_mapping).astype(int)\n",
    "df2['Embarked'] = df2['Embarked'].map(embarked_mapping).astype(int)"
   ]
  },
  {
   "cell_type": "code",
   "execution_count": 9,
   "id": "2c815aea-fc6b-44b2-8e2e-d1190906766b",
   "metadata": {},
   "outputs": [],
   "source": [
    "sex_mapping = {'female':1, 'male':0}\n",
    "df['Sex'] = df['Sex'].map(sex_mapping).astype(int)\n",
    "df2['Sex'] = df2['Sex'].map(sex_mapping).astype(int)"
   ]
  },
  {
   "cell_type": "code",
   "execution_count": 25,
   "id": "d9649223-bd8e-49b4-8095-5c0bbab04bd8",
   "metadata": {},
   "outputs": [],
   "source": [
    "data = df[['Pclass', 'Sex', 'Age', 'Fare', 'Embarked', 'IsAlone']]\n",
    "test = df2[['Pclass', 'Sex', 'Age', 'Fare', 'Embarked', 'IsAlone']]\n",
    "target = df['Survived']"
   ]
  },
  {
   "cell_type": "code",
   "execution_count": null,
   "id": "cfa6fe31-6996-47c2-bfa4-653f8adde60e",
   "metadata": {},
   "outputs": [],
   "source": [
    "data.info()"
   ]
  },
  {
   "cell_type": "code",
   "execution_count": null,
   "id": "63a29a71-667e-4939-8d68-2099a6110e9d",
   "metadata": {},
   "outputs": [],
   "source": [
    "target.info()"
   ]
  },
  {
   "cell_type": "code",
   "execution_count": 11,
   "id": "3b5993fc-8f47-4eed-bf15-e44b8cb1605a",
   "metadata": {},
   "outputs": [],
   "source": [
    "from sklearn.model_selection import cross_validate\n",
    "from sklearn.ensemble import RandomForestClassifier"
   ]
  },
  {
   "cell_type": "code",
   "execution_count": 12,
   "id": "d2988221-8b44-4464-be3b-b0f134a2688e",
   "metadata": {},
   "outputs": [
    {
     "name": "stdout",
     "output_type": "stream",
     "text": [
      "{'fit_time': array([0.16897321, 0.16706657, 0.17707872, 0.18124342, 0.17287183]), 'score_time': array([0.02880669, 0.02809763, 0.02830958, 0.02835846, 0.02855444]), 'test_score': array([0.78212291, 0.80898876, 0.84269663, 0.7752809 , 0.83146067])}\n"
     ]
    }
   ],
   "source": [
    "rf = RandomForestClassifier(n_estimators=100, n_jobs=-1)\n",
    "scores = cross_validate(rf, data, target, n_jobs=-1)\n",
    "print(scores)"
   ]
  },
  {
   "cell_type": "code",
   "execution_count": 26,
   "id": "d46ade19-84aa-4776-8f41-84a2a0f0c7b7",
   "metadata": {},
   "outputs": [],
   "source": [
    "rf = RandomForestClassifier(n_jobs = -1)\n",
    "rf.fit(data, target)\n",
    "predictions = rf.predict(test)"
   ]
  },
  {
   "cell_type": "code",
   "execution_count": 27,
   "id": "9b75b58f-50a2-468e-b839-4a4545f8555a",
   "metadata": {},
   "outputs": [
    {
     "name": "stdout",
     "output_type": "stream",
     "text": [
      "<class 'pandas.core.frame.DataFrame'>\n",
      "RangeIndex: 418 entries, 0 to 417\n",
      "Data columns (total 6 columns):\n",
      " #   Column    Non-Null Count  Dtype  \n",
      "---  ------    --------------  -----  \n",
      " 0   Pclass    418 non-null    int64  \n",
      " 1   Sex       418 non-null    int64  \n",
      " 2   Age       418 non-null    float64\n",
      " 3   Fare      418 non-null    float64\n",
      " 4   Embarked  418 non-null    int64  \n",
      " 5   IsAlone   418 non-null    int64  \n",
      "dtypes: float64(2), int64(4)\n",
      "memory usage: 19.7 KB\n"
     ]
    }
   ],
   "source": [
    "test.info()"
   ]
  },
  {
   "cell_type": "code",
   "execution_count": 22,
   "id": "b5a23b0b-5516-4086-9821-33fdcec9f188",
   "metadata": {},
   "outputs": [
    {
     "name": "stdout",
     "output_type": "stream",
     "text": [
      "<class 'pandas.core.frame.DataFrame'>\n",
      "RangeIndex: 418 entries, 0 to 417\n",
      "Data columns (total 13 columns):\n",
      " #   Column       Non-Null Count  Dtype  \n",
      "---  ------       --------------  -----  \n",
      " 0   PassengerId  418 non-null    int64  \n",
      " 1   Pclass       418 non-null    int64  \n",
      " 2   Name         418 non-null    object \n",
      " 3   Sex          418 non-null    int64  \n",
      " 4   Age          418 non-null    float64\n",
      " 5   SibSp        418 non-null    int64  \n",
      " 6   Parch        418 non-null    int64  \n",
      " 7   Ticket       418 non-null    object \n",
      " 8   Fare         418 non-null    float64\n",
      " 9   Cabin        91 non-null     object \n",
      " 10  Embarked     418 non-null    int64  \n",
      " 11  Family       418 non-null    int64  \n",
      " 12  IsAlone      418 non-null    int64  \n",
      "dtypes: float64(2), int64(8), object(3)\n",
      "memory usage: 42.6+ KB\n"
     ]
    }
   ],
   "source": [
    "df2.info()"
   ]
  },
  {
   "cell_type": "code",
   "execution_count": 28,
   "id": "6a66dddc-79fa-4160-a651-14665ecc0009",
   "metadata": {},
   "outputs": [],
   "source": [
    "output = pd.DataFrame({'PassengerId': df2.PassengerId, 'Survived': predictions})\n",
    "output.to_csv('submission.csv', index=False)"
   ]
  },
  {
   "cell_type": "code",
   "execution_count": null,
   "id": "0540195a-b889-406d-b4f8-47a8d03d986a",
   "metadata": {},
   "outputs": [],
   "source": []
  }
 ],
 "metadata": {
  "kernelspec": {
   "display_name": "Python 3 (ipykernel)",
   "language": "python",
   "name": "python3"
  },
  "language_info": {
   "codemirror_mode": {
    "name": "ipython",
    "version": 3
   },
   "file_extension": ".py",
   "mimetype": "text/x-python",
   "name": "python",
   "nbconvert_exporter": "python",
   "pygments_lexer": "ipython3",
   "version": "3.13.2"
  }
 },
 "nbformat": 4,
 "nbformat_minor": 5
}
